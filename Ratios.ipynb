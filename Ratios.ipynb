{
 "cells": [
  {
   "cell_type": "markdown",
   "metadata": {},
   "source": [
    "### Ratios and proportions\n",
    "Set up proportion\n",
    "\n",
    "n1/d1  = n2/d2\n",
    " "
   ]
  },
  {
   "cell_type": "code",
   "execution_count": 13,
   "metadata": {},
   "outputs": [
    {
     "name": "stdout",
     "output_type": "stream",
     "text": [
      "d2 == 8.0\n"
     ]
    }
   ],
   "source": [
    "# Put 0 as unknown value\n",
    "n1 = 1\n",
    "d1 = 2\n",
    "n2 = 4\n",
    "d2 = 0\n",
    "\n",
    "if n2 == 0:\n",
    "  answer =  d2 * n1 / d1\n",
    "  \n",
    "  print('n2 = ',answer)\n",
    "\n",
    "if d2 ==0:\n",
    "  answer = d1 * n2 / n1\n",
    "  print('d2 ==',answer )"
   ]
  },
  {
   "cell_type": "markdown",
   "metadata": {},
   "source": [
    "### Solve for x\n",
    "Solving for x. The variable eq is the equation set equal to 0. This will print an array of solutions"
   ]
  },
  {
   "cell_type": "code",
   "execution_count": 14,
   "metadata": {},
   "outputs": [],
   "source": [
    "import sympy\n",
    "from sympy import symbols\n",
    "from sympy.solvers import solve"
   ]
  },
  {
   "cell_type": "code",
   "execution_count": 15,
   "metadata": {},
   "outputs": [
    {
     "name": "stdout",
     "output_type": "stream",
     "text": [
      "x = [-2, 2]\n"
     ]
    }
   ],
   "source": [
    "x = symbols('x')\n",
    "\n",
    "# Put the equation here\n",
    "eq = x**2 - 4\n",
    "\n",
    "print('x =',solve(eq,x))"
   ]
  },
  {
   "cell_type": "code",
   "execution_count": 16,
   "metadata": {},
   "outputs": [
    {
     "name": "stdout",
     "output_type": "stream",
     "text": [
      "x =  [2]\n"
     ]
    }
   ],
   "source": [
    "eq = 2*x -4\n",
    "print('x = ',solve(eq,x))"
   ]
  },
  {
   "cell_type": "code",
   "execution_count": 17,
   "metadata": {},
   "outputs": [],
   "source": [
    "eq = input('Enter equation: 0 =')\n",
    "solution = solve(eq,x)\n",
    "for s in solution:\n",
    "  print('x = ',s)"
   ]
  },
  {
   "cell_type": "code",
   "execution_count": 18,
   "metadata": {},
   "outputs": [
    {
     "name": "stdout",
     "output_type": "stream",
     "text": [
      "x =  y/2 - 5\n"
     ]
    }
   ],
   "source": [
    "from sympy import *\n",
    "var('x y')\n",
    "# First equation is set to 0\n",
    "# first = 2 * x + 10 -y \n",
    "first = 2 * x + 10 \n",
    "# eql = Eq(first,0) default\n",
    "eql = Eq(first,y)\n",
    "#  Here this is happening First == y\n",
    "#  Solve\n",
    "sol = solve(eql,x)\n",
    "for s in sol:\n",
    "  print('x = ' ,s)"
   ]
  },
  {
   "cell_type": "markdown",
   "metadata": {},
   "source": [
    "#### Factoring\n"
   ]
  },
  {
   "cell_type": "code",
   "execution_count": 19,
   "metadata": {},
   "outputs": [
    {
     "data": {
      "text/latex": [
       "$\\displaystyle \\left(x - 2\\right) \\left(x + 2\\right)$"
      ],
      "text/plain": [
       "(x - 2)*(x + 2)"
      ]
     },
     "execution_count": 19,
     "metadata": {},
     "output_type": "execute_result"
    }
   ],
   "source": [
    "var('x y')\n",
    "#  eqauatio to solve\n",
    "# eq  = 2*x + 10*y+4\n",
    "eq = x ** 2 -4\n",
    "sympy.factor(eq) \n",
    "#  It simplied the equation"
   ]
  },
  {
   "cell_type": "code",
   "execution_count": 20,
   "metadata": {},
   "outputs": [],
   "source": [
    "#  Explantaion of Functions\n",
    "'''\n",
    "Converting string input including fractions into float\n",
    "'''\n",
    "def str_frac(in_string):\n",
    "  if '/' in in_string:\n",
    "    nd = in_string.split('/')\n",
    "    n = float(nd[0])\n",
    "    d = float(nd[1])\n",
    "    ans = n/d\n",
    "    return ans\n",
    "  else:\n",
    "    ans = float(in_string)\n",
    "    return ans"
   ]
  },
  {
   "cell_type": "markdown",
   "metadata": {},
   "source": [
    "#### How to covert decimals to fractions\n",
    "##### Positive and negative exponents"
   ]
  },
  {
   "cell_type": "code",
   "execution_count": 21,
   "metadata": {},
   "outputs": [
    {
     "name": "stdout",
     "output_type": "stream",
     "text": [
      "10\n",
      "100\n",
      "1000\n",
      "1\n",
      "0.1\n",
      "0.01\n",
      "0.001\n"
     ]
    }
   ],
   "source": [
    "print(10**1)\n",
    "print(10**2)\n",
    "print(10**3)\n",
    "\n",
    "print(10**0)\n",
    "\n",
    "print(10**-1)\n",
    "print(10**-2)\n",
    "print(10**-3)\n"
   ]
  },
  {
   "cell_type": "markdown",
   "metadata": {},
   "source": [
    "Cast input as a float or int variable"
   ]
  },
  {
   "cell_type": "code",
   "execution_count": 22,
   "metadata": {},
   "outputs": [],
   "source": [
    "# txt = float(input('Enter'))"
   ]
  },
  {
   "cell_type": "code",
   "execution_count": 23,
   "metadata": {},
   "outputs": [
    {
     "name": "stdout",
     "output_type": "stream",
     "text": [
      "The decimal is 3.0\n",
      "The Fraction is 3 / 1\n",
      "The percentage is 300.0 %\n"
     ]
    }
   ],
   "source": [
    "#  Get string input , which will include a decimal point\n",
    "\n",
    "# get the number of decimal places -1 as one count is the dot .\n",
    "digits = input('Enter a decimal number to convert')\n",
    "\n",
    "exponent = int(len(digits)) -1\n",
    "# Conversion\n",
    "n = float(digits)\n",
    "\n",
    "# getting the numerator\n",
    "numerator = int(n *10 **exponent)\n",
    "demominator = 10 ** exponent\n",
    "#  Percentage\n",
    "percent = n * 100\n",
    "print('The decimal is',n)\n",
    "print('The Fraction is',numerator,'/',demominator)\n",
    "print('The percentage is',percent,'%')"
   ]
  },
  {
   "cell_type": "code",
   "execution_count": 24,
   "metadata": {},
   "outputs": [
    {
     "name": "stdout",
     "output_type": "stream",
     "text": [
      "Eq(0, a*x**2 + b*x + c) \n",
      "\n",
      "x = (-b - sqrt(-4*a*c + b**2))/(2*a)\n",
      "x = (-b + sqrt(-4*a*c + b**2))/(2*a)\n"
     ]
    }
   ],
   "source": [
    "from sympy import *\n",
    "import math\n",
    "\n",
    "var('a b c d x')\n",
    "#  Left and right sides of the equation\n",
    "left = 0\n",
    "right = a*x**2 + b*x + c\n",
    "# Variable to solve for\n",
    "variable = x\n",
    "eq1 = Eq(left,right)\n",
    "print(eq1,'\\n')\n",
    "#  Solve for that variable\n",
    "sol = solve(eq1,variable)\n",
    "# Putting the variable in the equation to solve it\n",
    "\n",
    "#  Showing the factored results\n",
    "for s in sol:\n",
    "  print(variable,'=',s)"
   ]
  },
  {
   "cell_type": "markdown",
   "metadata": {},
   "source": [
    "### Functions and a table of (x,y) values"
   ]
  },
  {
   "cell_type": "code",
   "execution_count": 25,
   "metadata": {},
   "outputs": [
    {
     "name": "stdout",
     "output_type": "stream",
     "text": [
      "5 , 23\n",
      "x \t y\n",
      "0 \t 3\n",
      "1 \t 7\n",
      "2 \t 11\n",
      "3 \t 15\n",
      "4 \t 19\n",
      "5 \t 23\n",
      "6 \t 27\n",
      "7 \t 31\n",
      "8 \t 35\n",
      "9 \t 39\n",
      "10 \t 43\n"
     ]
    }
   ],
   "source": [
    "x = 5\n",
    "y = 4*x + 3\n",
    "print(x,',',y)\n",
    "print('x \\t y')\n",
    "\n",
    "for x in range(11):\n",
    "  y = 4*x + 3 # the Function\n",
    "  print(x,'\\t',y) "
   ]
  },
  {
   "cell_type": "code",
   "execution_count": 26,
   "metadata": {},
   "outputs": [
    {
     "name": "stdout",
     "output_type": "stream",
     "text": [
      "5 , 43\n"
     ]
    }
   ],
   "source": [
    "# Same thing as above\n",
    "def f(x):\n",
    "  y = 4*x +3\n",
    "  return y\n",
    "\n",
    "print(5,',',y)"
   ]
  },
  {
   "cell_type": "markdown",
   "metadata": {},
   "source": [
    "##### Graphing functions"
   ]
  },
  {
   "cell_type": "code",
   "execution_count": 27,
   "metadata": {},
   "outputs": [],
   "source": [
    "import matplotlib.pyplot as plt"
   ]
  },
  {
   "cell_type": "code",
   "execution_count": 28,
   "metadata": {},
   "outputs": [
    {
     "data": {
      "image/png": "[encoded data removed]",
      "text/plain": [
       "<Figure size 640x480 with 1 Axes>"
      ]
     },
     "metadata": {},
     "output_type": "display_data"
    }
   ],
   "source": [
    "fig , ax = plt.subplots()\n",
    "# Setting the limits in the graph\n",
    "plt.axis([-10,10,-10,10])\n",
    "plt.show()"
   ]
  },
  {
   "cell_type": "code",
   "execution_count": 29,
   "metadata": {},
   "outputs": [
    {
     "data": {
      "image/png": "[encoded data removed]",
      "text/plain": [
       "<Figure size 640x480 with 1 Axes>"
      ]
     },
     "metadata": {},
     "output_type": "display_data"
    }
   ],
   "source": [
    "#  A better way\n",
    "xmin = -10\n",
    "xmax = 10\n",
    "ymin = -10\n",
    "ymax = 10\n",
    "\n",
    "fig, ax = plt.subplots()\n",
    "plt.axis([xmin,xmax,ymin,ymax]) # Window size\n",
    "plt.plot([xmin,xmax],[0,0],'b')\n",
    "plt.plot([0,0],[ymin,ymax],'b')\n",
    "plt.show()"
   ]
  },
  {
   "cell_type": "code",
   "execution_count": 30,
   "metadata": {},
   "outputs": [
    {
     "name": "stdout",
     "output_type": "stream",
     "text": [
      "x \t y\n",
      "-5 \t -1.5\n",
      "-4 \t -1.0\n",
      "-3 \t -0.5\n",
      "-2 \t 0.0\n",
      "-1 \t 0.5\n",
      "0 \t 1.0\n",
      "1 \t 1.5\n",
      "2 \t 2.0\n",
      "3 \t 2.5\n",
      "4 \t 3.0\n",
      "5 \t 3.5\n",
      "6 \t 4.0\n",
      "7 \t 4.5\n",
      "8 \t 5.0\n",
      "9 \t 5.5\n"
     ]
    },
    {
     "data": {
      "image/png": "[encoded data removed]",
      "text/plain": [
       "<Figure size 640x480 with 1 Axes>"
      ]
     },
     "metadata": {},
     "output_type": "display_data"
    }
   ],
   "source": [
    "#  A better way\n",
    "xmin = -10\n",
    "xmax = 10\n",
    "ymin = -10\n",
    "ymax = 10\n",
    "\n",
    "fig, ax = plt.subplots()\n",
    "plt.axis([xmin,xmax,ymin,ymax]) # Window size\n",
    "plt.plot([xmin,xmax],[0,0],'b')\n",
    "plt.plot([0,0],[ymin,ymax],'b')\n",
    "\n",
    "print('x \\t y')\n",
    "for x in range(-5,10):\n",
    "  y = 0.5*x + 1\n",
    "  plt.plot([x],[y],'ro')\n",
    "  print(x,'\\t',y)\n",
    "plt.show()"
   ]
  },
  {
   "cell_type": "code",
   "execution_count": 31,
   "metadata": {},
   "outputs": [
    {
     "data": {
      "image/png": "[encoded data removed]",
      "text/plain": [
       "<Figure size 640x480 with 1 Axes>"
      ]
     },
     "metadata": {},
     "output_type": "display_data"
    }
   ],
   "source": [
    "import numpy as np\n",
    "import matplotlib.pyplot as plt\n",
    "\n",
    "xmin = -10\n",
    "xmax = 10\n",
    "ymin = -10\n",
    "ymax = 10\n",
    "\n",
    "points = 2*(xmax-xmin)\n",
    "x = np.linspace(xmin,xmax,points)\n",
    "\n",
    "fig,ax = plt.subplots()\n",
    "plt.axis([xmin,xmax,ymin,ymax]) #window size\n",
    "plt.plot([xmin,xmax],[0,0],'b')\n",
    "plt.plot([0,0],[ymin,ymax],'b')\n",
    "\n",
    "y = 2*x + 1\n",
    "plt.plot(x,y,'r')\n",
    "plt.show()"
   ]
  },
  {
   "cell_type": "markdown",
   "metadata": {},
   "source": [
    "## Slope Intercept"
   ]
  },
  {
   "cell_type": "code",
   "execution_count": 34,
   "metadata": {},
   "outputs": [
    {
     "name": "stdout",
     "output_type": "stream",
     "text": [
      "Slope =  1.0\n"
     ]
    }
   ],
   "source": [
    "x1 = 1\n",
    "y1 = 7\n",
    "x2 = 4\n",
    "y2 = 10\n",
    "\n",
    "slope =  (y2-y1)/ (x2-x1)\n",
    "print('Slope = ',slope)\n"
   ]
  },
  {
   "cell_type": "markdown",
   "metadata": {},
   "source": [
    "#### Developing equations"
   ]
  },
  {
   "cell_type": "code",
   "execution_count": 35,
   "metadata": {},
   "outputs": [
    {
     "name": "stdout",
     "output_type": "stream",
     "text": [
      "y =  1.0 x +  6.0\n"
     ]
    }
   ],
   "source": [
    "x1 = 1\n",
    "y1 = 7\n",
    "x2 = 4\n",
    "y2 = 10\n",
    "# The slope m\n",
    "m =  (y2-y1)/ (x2-x1)\n",
    "# The y intercept 'b'\n",
    "b = y1 - m *x1\n",
    "print('y = ',m,'x + ',b)"
   ]
  },
  {
   "cell_type": "code",
   "execution_count": 61,
   "metadata": {},
   "outputs": [
    {
     "data": {
      "text/plain": [
       "[<matplotlib.lines.Line2D at 0x26de7e20250>]"
      ]
     },
     "execution_count": 61,
     "metadata": {},
     "output_type": "execute_result"
    },
    {
     "data": {
      "image/png": "[encoded data removed]",
      "text/plain": [
       "<Figure size 640x480 with 1 Axes>"
      ]
     },
     "metadata": {},
     "output_type": "display_data"
    }
   ],
   "source": [
    "# Grapj\n",
    "y3 = m *xmin +b\n",
    "y4 = m *xmax + b\n",
    "\n",
    "# Basic setup for the graph\n",
    "fig,ax =  plt.subplots()\n",
    "plt.axis([xmin,xmax,ymin,ymax]) #window size\n",
    "plt.plot([xmin, xmax],[0,0],'b')\n",
    "plt.plot([0,0],[ymin,ymax] ,'b')\n",
    "\n",
    "plt.plot([xmin,xmax],[y3,y4],'r')\n"
   ]
  },
  {
   "cell_type": "markdown",
   "metadata": {},
   "source": [
    "#### Extra  Questions\n",
    "Q1) A town population increases at constant rate . If in 2010 it is 55,000 and 2012 it is 76,000 predict for 2016"
   ]
  },
  {
   "cell_type": "code",
   "execution_count": 65,
   "metadata": {},
   "outputs": [
    {
     "name": "stdout",
     "output_type": "stream",
     "text": [
      "y =  10.5 x +  55.0\n"
     ]
    }
   ],
   "source": [
    "# Finding the slope will help us calcuate it\n",
    "x1 = 0\n",
    "y1 = 55\n",
    "x2 = 2\n",
    "y2 = 76\n",
    "# Developing equation y = mx + b\n",
    "m = (y2 - y1)/ (x2-x1)\n",
    "b = y1 - m * x1\n",
    "print('y = ',m ,'x + ',b)"
   ]
  },
  {
   "cell_type": "code",
   "execution_count": 67,
   "metadata": {},
   "outputs": [
    {
     "data": {
      "text/plain": [
       "[<matplotlib.lines.Line2D at 0x26de5257650>]"
      ]
     },
     "execution_count": 67,
     "metadata": {},
     "output_type": "execute_result"
    },
    {
     "data": {
      "image/png": "[encoded data removed]",
      "text/plain": [
       "<Figure size 640x480 with 1 Axes>"
      ]
     },
     "metadata": {},
     "output_type": "display_data"
    }
   ],
   "source": [
    "#  plot a line to predict it \n",
    "xmin = 0\n",
    "xmax = 10 \n",
    "ymin = 0\n",
    "ymax = 150\n",
    " \n",
    "fig,ax = plt.subplots()\n",
    "plt.axis([xmin,xmax,ymin,ymax])\n",
    "plt.plot([xmin,xmax],[0,0],'b')\n",
    "plt.plot([0,0],[ymin,ymax],'b')\n",
    "\n",
    "# Points y3 is the min value kinda the starting points and y max is the other side \n",
    "y3 = m *xmin + b\n",
    "y4  = m*xmax + b\n",
    "\n",
    "# Add details\n",
    "ax.set_xlabel('time')\n",
    "ax.set_ylabel('population')\n",
    "ax.grid(True)\n",
    "\n",
    "plt.plot([xmin,xmax],[y3,y4],'r')"
   ]
  },
  {
   "cell_type": "code",
   "execution_count": 68,
   "metadata": {},
   "outputs": [
    {
     "name": "stdout",
     "output_type": "stream",
     "text": [
      "y =  10.5 x +  55.0\n"
     ]
    }
   ],
   "source": [
    "print('y = ',m ,'x + ',b)"
   ]
  },
  {
   "cell_type": "code",
   "execution_count": 69,
   "metadata": {},
   "outputs": [
    {
     "name": "stdout",
     "output_type": "stream",
     "text": [
      "118.0\n"
     ]
    }
   ],
   "source": [
    "y2016 = 10.5 *6 + 55\n",
    "print(y2016)"
   ]
  },
  {
   "cell_type": "code",
   "execution_count": null,
   "metadata": {},
   "outputs": [],
   "source": []
  }
 ],
 "metadata": {
  "kernelspec": {
   "display_name": "Python 3",
   "language": "python",
   "name": "python3"
  },
  "language_info": {
   "codemirror_mode": {
    "name": "ipython",
    "version": 3
   },
   "file_extension": ".py",
   "mimetype": "text/x-python",
   "name": "python",
   "nbconvert_exporter": "python",
   "pygments_lexer": "ipython3",
   "version": "3.11.1"
  },
  "orig_nbformat": 4
 },
 "nbformat": 4,
 "nbformat_minor": 2
}
