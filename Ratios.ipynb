{
 "cells": [
  {
   "cell_type": "markdown",
   "metadata": {},
   "source": [
    "### Ratios and proportions\n",
    "Set up proportion\n",
    "\n",
    "n1/d1  = n2/d2\n",
    " "
   ]
  },
  {
   "cell_type": "code",
   "execution_count": 9,
   "metadata": {},
   "outputs": [
    {
     "name": "stdout",
     "output_type": "stream",
     "text": [
      "d2 == 8.0\n"
     ]
    }
   ],
   "source": [
    "# Put 0 as unknown value\n",
    "n1 = 1\n",
    "d1 = 2\n",
    "n2 = 4\n",
    "d2 = 0\n",
    "\n",
    "if n2 == 0:\n",
    "  answer =  d2 * n1 / d1\n",
    "  \n",
    "  print('n2 = ',answer)\n",
    "\n",
    "if d2 ==0:\n",
    "  answer = d1 * n2 / n1\n",
    "  print('d2 ==',answer )"
   ]
  },
  {
   "cell_type": "markdown",
   "metadata": {},
   "source": [
    "### Solve for x\n",
    "Solving for x. The variable eq is the equation set equal to 0. This will print an array of solutions"
   ]
  },
  {
   "cell_type": "code",
   "execution_count": 10,
   "metadata": {},
   "outputs": [],
   "source": [
    "import sympy\n",
    "from sympy import symbols\n",
    "from sympy.solvers import solve"
   ]
  },
  {
   "cell_type": "code",
   "execution_count": 11,
   "metadata": {},
   "outputs": [
    {
     "name": "stdout",
     "output_type": "stream",
     "text": [
      "x = [-2, 2]\n"
     ]
    }
   ],
   "source": [
    "x = symbols('x')\n",
    "\n",
    "# Put the equation here\n",
    "eq = x**2 - 4\n",
    "\n",
    "print('x =',solve(eq,x))"
   ]
  },
  {
   "cell_type": "code",
   "execution_count": 12,
   "metadata": {},
   "outputs": [
    {
     "name": "stdout",
     "output_type": "stream",
     "text": [
      "x =  [2]\n"
     ]
    }
   ],
   "source": [
    "eq = 2*x -4\n",
    "print('x = ',solve(eq,x))"
   ]
  },
  {
   "cell_type": "code",
   "execution_count": 15,
   "metadata": {},
   "outputs": [
    {
     "name": "stdout",
     "output_type": "stream",
     "text": [
      "x =  0\n"
     ]
    }
   ],
   "source": [
    "eq = input('Enter equation: 0 =')\n",
    "solution = solve(eq,x)\n",
    "for s in solution:\n",
    "  print('x = ',s)"
   ]
  },
  {
   "cell_type": "code",
   "execution_count": 16,
   "metadata": {},
   "outputs": [
    {
     "name": "stdout",
     "output_type": "stream",
     "text": [
      "x =  y/2 - 5\n"
     ]
    }
   ],
   "source": [
    "from sympy import *\n",
    "var('x y')\n",
    "# First equation is set to 0\n",
    "# first = 2 * x + 10 -y \n",
    "first = 2 * x + 10 \n",
    "# eql = Eq(first,0) default\n",
    "eql = Eq(first,y)\n",
    "#  Here this is happening First == y\n",
    "#  Solve\n",
    "sol = solve(eql,x)\n",
    "for s in sol:\n",
    "  print('x = ' ,s)"
   ]
  },
  {
   "cell_type": "markdown",
   "metadata": {},
   "source": [
    "#### Factoring\n"
   ]
  },
  {
   "cell_type": "code",
   "execution_count": 17,
   "metadata": {},
   "outputs": [
    {
     "data": {
      "text/latex": [
       "$\\displaystyle \\left(x - 2\\right) \\left(x + 2\\right)$"
      ],
      "text/plain": [
       "(x - 2)*(x + 2)"
      ]
     },
     "execution_count": 17,
     "metadata": {},
     "output_type": "execute_result"
    }
   ],
   "source": [
    "var('x y')\n",
    "#  eqauatio to solve\n",
    "# eq  = 2*x + 10*y+4\n",
    "eq = x ** 2 -4\n",
    "sympy.factor(eq) \n",
    "#  It simplied the equation"
   ]
  },
  {
   "cell_type": "code",
   "execution_count": 18,
   "metadata": {},
   "outputs": [],
   "source": [
    "#  Explantaion of Functions\n",
    "'''\n",
    "Converting string input including fractions into float\n",
    "'''\n",
    "def str_frac(in_string):\n",
    "  if '/' in in_string:\n",
    "    nd = in_string.split('/')\n",
    "    n = float(nd[0])\n",
    "    d = float(nd[1])\n",
    "    ans = n/d\n",
    "    return ans\n",
    "  else:\n",
    "    ans = float(in_string)\n",
    "    return ans"
   ]
  },
  {
   "cell_type": "markdown",
   "metadata": {},
   "source": [
    "#### How to covert decimals to fractions\n",
    "##### Positive and negative exponents"
   ]
  },
  {
   "cell_type": "code",
   "execution_count": 19,
   "metadata": {},
   "outputs": [
    {
     "name": "stdout",
     "output_type": "stream",
     "text": [
      "10\n",
      "100\n",
      "1000\n",
      "1\n",
      "0.1\n",
      "0.01\n",
      "0.001\n"
     ]
    }
   ],
   "source": [
    "print(10**1)\n",
    "print(10**2)\n",
    "print(10**3)\n",
    "\n",
    "print(10**0)\n",
    "\n",
    "print(10**-1)\n",
    "print(10**-2)\n",
    "print(10**-3)\n"
   ]
  },
  {
   "cell_type": "markdown",
   "metadata": {},
   "source": [
    "Cast input as a float or int variable"
   ]
  },
  {
   "cell_type": "code",
   "execution_count": 20,
   "metadata": {},
   "outputs": [],
   "source": [
    "# txt = float(input('Enter'))"
   ]
  },
  {
   "cell_type": "code",
   "execution_count": 23,
   "metadata": {},
   "outputs": [
    {
     "name": "stdout",
     "output_type": "stream",
     "text": [
      "The decimal is 43.0\n",
      "The Fraction is 430 / 10\n",
      "The percentage is 4300.0 %\n"
     ]
    }
   ],
   "source": [
    "#  Get string input , which will include a decimal point\n",
    "\n",
    "# get the number of decimal places -1 as one count is the dot .\n",
    "digits = input('Enter a decimal number to convert')\n",
    "\n",
    "exponent = int(len(digits)) -1\n",
    "# Conversion\n",
    "n = float(digits)\n",
    "\n",
    "# getting the numerator\n",
    "numerator = int(n *10 **exponent)\n",
    "demominator = 10 ** exponent\n",
    "#  Percentage\n",
    "percent = n * 100\n",
    "print('The decimal is',n)\n",
    "print('The Fraction is',numerator,'/',demominator)\n",
    "print('The percentage is',percent,'%')"
   ]
  },
  {
   "cell_type": "code",
   "execution_count": 29,
   "metadata": {},
   "outputs": [
    {
     "name": "stdout",
     "output_type": "stream",
     "text": [
      "Eq(0, a*x**2 + b*x + c) \n",
      "\n",
      "x = (-b - sqrt(-4*a*c + b**2))/(2*a)\n",
      "x = (-b + sqrt(-4*a*c + b**2))/(2*a)\n"
     ]
    }
   ],
   "source": [
    "from sympy import *\n",
    "import math\n",
    "\n",
    "var('a b c d x')\n",
    "#  Left and right sides of the equation\n",
    "left = 0\n",
    "right = a*x**2 + b*x + c\n",
    "# Variable to solve for\n",
    "variable = x\n",
    "eq1 = Eq(left,right)\n",
    "print(eq1,'\\n')\n",
    "#  Solve for that variable\n",
    "sol = solve(eq1,variable)\n",
    "# Putting the variable in the equation to solve it\n",
    "\n",
    "#  Showing the factored results\n",
    "for s in sol:\n",
    "  print(variable,'=',s)"
   ]
  },
  {
   "cell_type": "code",
   "execution_count": null,
   "metadata": {},
   "outputs": [],
   "source": []
  },
  {
   "cell_type": "code",
   "execution_count": null,
   "metadata": {},
   "outputs": [],
   "source": []
  },
  {
   "cell_type": "code",
   "execution_count": null,
   "metadata": {},
   "outputs": [],
   "source": []
  }
 ],
 "metadata": {
  "kernelspec": {
   "display_name": "Python 3",
   "language": "python",
   "name": "python3"
  },
  "language_info": {
   "codemirror_mode": {
    "name": "ipython",
    "version": 3
   },
   "file_extension": ".py",
   "mimetype": "text/x-python",
   "name": "python",
   "nbconvert_exporter": "python",
   "pygments_lexer": "ipython3",
   "version": "3.11.1"
  },
  "orig_nbformat": 4
 },
 "nbformat": 4,
 "nbformat_minor": 2
}
