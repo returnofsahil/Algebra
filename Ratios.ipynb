{
 "cells": [
  {
   "cell_type": "markdown",
   "metadata": {},
   "source": [
    "### Ratios and proportions\n",
    "Set up proportion\n",
    "\n",
    "n1/d1  = n2/d2\n",
    " "
   ]
  },
  {
   "cell_type": "code",
   "execution_count": 11,
   "metadata": {},
   "outputs": [
    {
     "name": "stdout",
     "output_type": "stream",
     "text": [
      "d2 == 8.0\n"
     ]
    }
   ],
   "source": [
    "# Put 0 as unknown value\n",
    "n1 = 1\n",
    "d1 = 2\n",
    "n2 = 4\n",
    "d2 = 0\n",
    "\n",
    "if n2 == 0:\n",
    "  answer =  d2 * n1 / d1\n",
    "  \n",
    "  print('n2 = ',answer)\n",
    "\n",
    "if d2 ==0:\n",
    "  answer = d1 * n2 / n1\n",
    "  print('d2 ==',answer )"
   ]
  },
  {
   "cell_type": "markdown",
   "metadata": {},
   "source": [
    "### Solve for x\n",
    "Solving for x. The variable eq is the equation set equal to 0. This will print an array of solutions"
   ]
  },
  {
   "cell_type": "code",
   "execution_count": 2,
   "metadata": {},
   "outputs": [],
   "source": [
    "import sympy\n",
    "from sympy import symbols\n",
    "from sympy.solvers import solve"
   ]
  },
  {
   "cell_type": "code",
   "execution_count": 5,
   "metadata": {},
   "outputs": [
    {
     "name": "stdout",
     "output_type": "stream",
     "text": [
      "x = [-2, 2]\n"
     ]
    }
   ],
   "source": [
    "x = symbols('x')\n",
    "\n",
    "# Put the equation here\n",
    "eq = x**2 - 4\n",
    "\n",
    "print('x =',solve(eq,x))"
   ]
  },
  {
   "cell_type": "code",
   "execution_count": 6,
   "metadata": {},
   "outputs": [
    {
     "name": "stdout",
     "output_type": "stream",
     "text": [
      "x =  [2]\n"
     ]
    }
   ],
   "source": [
    "eq = 2*x -4\n",
    "print('x = ',solve(eq,x))"
   ]
  },
  {
   "cell_type": "code",
   "execution_count": 13,
   "metadata": {},
   "outputs": [
    {
     "name": "stdout",
     "output_type": "stream",
     "text": [
      "x =  1\n",
      "x =  2\n"
     ]
    }
   ],
   "source": [
    "eq = input('Enter equation: 0 =')\n",
    "solution = solve(eq,x)\n",
    "for s in solution:\n",
    "  print('x = ',s)"
   ]
  },
  {
   "cell_type": "code",
   "execution_count": 22,
   "metadata": {},
   "outputs": [
    {
     "name": "stdout",
     "output_type": "stream",
     "text": [
      "x =  y/2 - 5\n"
     ]
    }
   ],
   "source": [
    "from sympy import *\n",
    "var('x y')\n",
    "# First equation is set to 0\n",
    "# first = 2 * x + 10 -y \n",
    "first = 2 * x + 10 \n",
    "# eql = Eq(first,0) default\n",
    "eql = Eq(first,y)\n",
    "#  Here this is happening First == y\n",
    "#  Solve\n",
    "sol = solve(eql,x)\n",
    "for s in sol:\n",
    "  print('x = ' ,s)"
   ]
  },
  {
   "cell_type": "markdown",
   "metadata": {},
   "source": [
    "#### Factoring\n"
   ]
  },
  {
   "cell_type": "code",
   "execution_count": null,
   "metadata": {},
   "outputs": [],
   "source": []
  }
 ],
 "metadata": {
  "kernelspec": {
   "display_name": "Python 3",
   "language": "python",
   "name": "python3"
  },
  "language_info": {
   "codemirror_mode": {
    "name": "ipython",
    "version": 3
   },
   "file_extension": ".py",
   "mimetype": "text/x-python",
   "name": "python",
   "nbconvert_exporter": "python",
   "pygments_lexer": "ipython3",
   "version": "3.11.1"
  },
  "orig_nbformat": 4
 },
 "nbformat": 4,
 "nbformat_minor": 2
}
